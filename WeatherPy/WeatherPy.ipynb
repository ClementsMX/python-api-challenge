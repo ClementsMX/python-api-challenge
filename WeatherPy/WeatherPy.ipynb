{
 "cells": [
  {
   "cell_type": "code",
   "execution_count": 1,
   "metadata": {},
   "outputs": [],
   "source": [
    "# Dependencies\n",
    "import matplotlib.pyplot as plt\n",
    "import requests\n",
    "import pandas as pd\n",
    "import numpy as np\n",
    "import time\n",
    "\n",
    "from scipy.stats import linregress\n",
    "from config import api_key\n",
    "\n",
    "#Help us to get the city of a given Latitude and Longitude.\n",
    "from citipy import citipy\n"
   ]
  },
  {
   "cell_type": "markdown",
   "metadata": {},
   "source": [
    "## Generate Cities List"
   ]
  },
  {
   "cell_type": "code",
   "execution_count": 2,
   "metadata": {},
   "outputs": [
    {
     "data": {
      "text/plain": [
       "563"
      ]
     },
     "execution_count": 2,
     "metadata": {},
     "output_type": "execute_result"
    }
   ],
   "source": [
    "lat_and_lngs = []\n",
    "cities = []\n",
    "\n",
    "# Creating the list of 500+ cities across the world\n",
    "lats_ls = np.random.uniform(-90, 90, 1400)\n",
    "lngs_ls = np.random.uniform(-180, 180, 1400)\n",
    "\n",
    "# Random coordinates\n",
    "lat_and_lngs = zip(lats_ls, lngs_ls)\n",
    "\n",
    "# Using citipy to identify nearest city for each lat, lng\n",
    "for lat_and_lng in lat_and_lngs:\n",
    "    \n",
    "    city = citipy.nearest_city(round(lat_and_lng[0],6), round(lat_and_lng[1],6)).city_name\n",
    "                                   \n",
    "    # If the city is unique, then add it to a our cities list\n",
    "    if city not in cities:\n",
    "        cities.append(city)\n",
    "\n",
    "len(cities)"
   ]
  },
  {
   "cell_type": "code",
   "execution_count": 3,
   "metadata": {},
   "outputs": [
    {
     "data": {
      "text/html": [
       "<div>\n",
       "<style scoped>\n",
       "    .dataframe tbody tr th:only-of-type {\n",
       "        vertical-align: middle;\n",
       "    }\n",
       "\n",
       "    .dataframe tbody tr th {\n",
       "        vertical-align: top;\n",
       "    }\n",
       "\n",
       "    .dataframe thead th {\n",
       "        text-align: right;\n",
       "    }\n",
       "</style>\n",
       "<table border=\"1\" class=\"dataframe\">\n",
       "  <thead>\n",
       "    <tr style=\"text-align: right;\">\n",
       "      <th></th>\n",
       "      <th>City</th>\n",
       "      <th>Lat</th>\n",
       "      <th>Lng</th>\n",
       "      <th>Temp</th>\n",
       "      <th>Humidity</th>\n",
       "      <th>Cloudiness</th>\n",
       "      <th>Wind Speed</th>\n",
       "      <th>Country</th>\n",
       "      <th>Date</th>\n",
       "      <th>flag</th>\n",
       "    </tr>\n",
       "  </thead>\n",
       "  <tbody>\n",
       "    <tr>\n",
       "      <th>0</th>\n",
       "      <td>ushuaia</td>\n",
       "      <td>0</td>\n",
       "      <td>0</td>\n",
       "      <td>0</td>\n",
       "      <td>0</td>\n",
       "      <td>0</td>\n",
       "      <td>0</td>\n",
       "      <td></td>\n",
       "      <td>0</td>\n",
       "      <td></td>\n",
       "    </tr>\n",
       "    <tr>\n",
       "      <th>1</th>\n",
       "      <td>port lincoln</td>\n",
       "      <td>0</td>\n",
       "      <td>0</td>\n",
       "      <td>0</td>\n",
       "      <td>0</td>\n",
       "      <td>0</td>\n",
       "      <td>0</td>\n",
       "      <td></td>\n",
       "      <td>0</td>\n",
       "      <td></td>\n",
       "    </tr>\n",
       "    <tr>\n",
       "      <th>2</th>\n",
       "      <td>new norfolk</td>\n",
       "      <td>0</td>\n",
       "      <td>0</td>\n",
       "      <td>0</td>\n",
       "      <td>0</td>\n",
       "      <td>0</td>\n",
       "      <td>0</td>\n",
       "      <td></td>\n",
       "      <td>0</td>\n",
       "      <td></td>\n",
       "    </tr>\n",
       "    <tr>\n",
       "      <th>3</th>\n",
       "      <td>jamestown</td>\n",
       "      <td>0</td>\n",
       "      <td>0</td>\n",
       "      <td>0</td>\n",
       "      <td>0</td>\n",
       "      <td>0</td>\n",
       "      <td>0</td>\n",
       "      <td></td>\n",
       "      <td>0</td>\n",
       "      <td></td>\n",
       "    </tr>\n",
       "    <tr>\n",
       "      <th>4</th>\n",
       "      <td>gravdal</td>\n",
       "      <td>0</td>\n",
       "      <td>0</td>\n",
       "      <td>0</td>\n",
       "      <td>0</td>\n",
       "      <td>0</td>\n",
       "      <td>0</td>\n",
       "      <td></td>\n",
       "      <td>0</td>\n",
       "      <td></td>\n",
       "    </tr>\n",
       "  </tbody>\n",
       "</table>\n",
       "</div>"
      ],
      "text/plain": [
       "           City  Lat  Lng  Temp  Humidity  Cloudiness  Wind Speed Country  \\\n",
       "0       ushuaia    0    0     0         0           0           0           \n",
       "1  port lincoln    0    0     0         0           0           0           \n",
       "2   new norfolk    0    0     0         0           0           0           \n",
       "3     jamestown    0    0     0         0           0           0           \n",
       "4       gravdal    0    0     0         0           0           0           \n",
       "\n",
       "   Date flag  \n",
       "0     0       \n",
       "1     0       \n",
       "2     0       \n",
       "3     0       \n",
       "4     0       "
      ]
     },
     "execution_count": 3,
     "metadata": {},
     "output_type": "execute_result"
    }
   ],
   "source": [
    "# create a data frame from cities, lat, lon, temp, humidity, cloudiness, wind speed\n",
    "weather_dict ={\n",
    "    \"City\" : cities,\n",
    "    \"Lat\" : 0,\n",
    "    \"Lng\" : 0,\n",
    "    \"Temp\": 0,\n",
    "    \"Humidity\": 0,\n",
    "    \"Cloudiness\": 0,\n",
    "    \"Wind Speed\": 0,\n",
    "    \"Country\": \"\",\n",
    "    \"Date\": 0,\n",
    "    \"flag\": \"\"\n",
    "}\n",
    "\n",
    "weather_data = pd.DataFrame(weather_dict)\n",
    "weather_data.head()"
   ]
  },
  {
   "cell_type": "markdown",
   "metadata": {},
   "source": [
    "## Perform API Calls\n",
    "#### Perform a weather check on each city using a series of successive API calls.\n",
    "#### Include a print log of each city as it'sbeing processed (with the city number and city name)."
   ]
  },
  {
   "cell_type": "code",
   "execution_count": 4,
   "metadata": {},
   "outputs": [
    {
     "name": "stdout",
     "output_type": "stream",
     "text": [
      "Processing Record City Number: 1 | ushuaia\n",
      "Processing Record City Number: 2 | port lincoln\n",
      "Processing Record City Number: 3 | new norfolk\n",
      "Processing Record City Number: 4 | jamestown\n",
      "Processing Record City Number: 5 | gravdal\n",
      "City Name: gangotri - not found. Skipping...\n",
      "City Name: mentok - not found. Skipping...\n",
      "Processing Record City Number: 6 | mataura\n",
      "Processing Record City Number: 7 | barrow\n",
      "Processing Record City Number: 8 | avarua\n",
      "Processing Record City Number: 9 | pisco\n",
      "Processing Record City Number: 10 | kodiak\n",
      "Processing Record City Number: 11 | nikolskoye\n",
      "Processing Record City Number: 12 | kloulklubed\n",
      "Processing Record City Number: 13 | bluff\n",
      "Processing Record City Number: 14 | vaini\n",
      "Processing Record City Number: 15 | yurty\n",
      "City Name: umzimvubu - not found. Skipping...\n",
      "Processing Record City Number: 16 | kalmunai\n",
      "Processing Record City Number: 17 | codrington\n",
      "Processing Record City Number: 18 | maceio\n",
      "Processing Record City Number: 19 | lompoc\n",
      "Processing Record City Number: 20 | shanghai\n",
      "Processing Record City Number: 21 | half moon bay\n",
      "Processing Record City Number: 22 | sao filipe\n",
      "Processing Record City Number: 23 | khani\n",
      "Processing Record City Number: 24 | constitucion\n",
      "Processing Record City Number: 25 | punta arenas\n",
      "Processing Record City Number: 26 | chuy\n",
      "Processing Record City Number: 27 | kaitangata\n",
      "Processing Record City Number: 28 | henties bay\n",
      "Processing Record City Number: 29 | hermanus\n",
      "Processing Record City Number: 30 | vardo\n",
      "Processing Record City Number: 31 | airai\n",
      "Processing Record City Number: 32 | tuktoyaktuk\n",
      "Processing Record City Number: 33 | atuona\n",
      "Processing Record City Number: 34 | port elizabeth\n",
      "Processing Record City Number: 35 | carnarvon\n",
      "Processing Record City Number: 36 | norman wells\n",
      "Processing Record City Number: 37 | te anau\n",
      "Processing Record City Number: 38 | cururupu\n",
      "Processing Record City Number: 39 | hithadhoo\n",
      "Processing Record City Number: 40 | puerto ayora\n",
      "Processing Record City Number: 41 | dikson\n",
      "Processing Record City Number: 42 | grand gaube\n",
      "City Name: marcona - not found. Skipping...\n",
      "Processing Record City Number: 43 | san carlos\n",
      "Processing Record City Number: 44 | cape town\n",
      "City Name: taolanaro - not found. Skipping...\n",
      "Processing Record City Number: 45 | ventersburg\n",
      "Processing Record City Number: 46 | victoria\n",
      "Processing Record City Number: 47 | fortuna\n",
      "Processing Record City Number: 48 | hobart\n",
      "Processing Record City Number: 49 | port alfred\n",
      "Processing Record City Number: 50 | mar del plata\n",
      "Processing Record City Number: 51 | pevek\n",
      "City Name: illoqqortoormiut - not found. Skipping...\n",
      "Processing Record City Number: 52 | santa cruz cabralia\n",
      "Processing Record City Number: 53 | provideniya\n",
      "Processing Record City Number: 54 | busselton\n",
      "Processing Record City Number: 55 | preobrazheniye\n",
      "Processing Record City Number: 56 | minot\n",
      "Processing Record City Number: 57 | vanavara\n",
      "Processing Record City Number: 58 | tiksi\n",
      "City Name: wulanhaote - not found. Skipping...\n",
      "Processing Record City Number: 59 | tenenkou\n",
      "Processing Record City Number: 60 | naron\n",
      "Processing Record City Number: 61 | kolomna\n",
      "Processing Record City Number: 62 | yellowknife\n",
      "Processing Record City Number: 63 | severo-kurilsk\n",
      "Processing Record City Number: 64 | thompson\n",
      "Processing Record City Number: 65 | adrar\n",
      "Processing Record City Number: 66 | tateyama\n",
      "Processing Record City Number: 67 | saint-philippe\n",
      "Processing Record City Number: 68 | beringovskiy\n",
      "Processing Record City Number: 69 | tasiilaq\n",
      "Processing Record City Number: 70 | qaqortoq\n",
      "Processing Record City Number: 71 | butaritari\n",
      "Processing Record City Number: 72 | gitarama\n",
      "City Name: phan rang - not found. Skipping...\n",
      "Processing Record City Number: 73 | rikitea\n",
      "Processing Record City Number: 74 | cruzeiro do sul\n",
      "Processing Record City Number: 75 | poum\n",
      "Processing Record City Number: 76 | cherskiy\n",
      "Processing Record City Number: 77 | los llanos de aridane\n",
      "Processing Record City Number: 78 | santa cruz\n",
      "Processing Record City Number: 79 | tilichiki\n",
      "Processing Record City Number: 80 | qaanaaq\n",
      "Processing Record City Number: 81 | riyadh\n",
      "Processing Record City Number: 82 | high rock\n",
      "Processing Record City Number: 83 | taoudenni\n",
      "Processing Record City Number: 84 | tuatapere\n",
      "Processing Record City Number: 85 | padang\n",
      "Processing Record City Number: 86 | bambous virieux\n",
      "Processing Record City Number: 87 | campbellton\n",
      "Processing Record City Number: 88 | khatanga\n",
      "Processing Record City Number: 89 | foso\n",
      "Processing Record City Number: 90 | ribeira grande\n",
      "Processing Record City Number: 91 | stephenville\n",
      "City Name: gulshat - not found. Skipping...\n",
      "Processing Record City Number: 92 | mareeba\n",
      "Processing Record City Number: 93 | klaksvik\n",
      "Processing Record City Number: 94 | bethanien\n",
      "Processing Record City Number: 95 | kollam\n",
      "Processing Record City Number: 96 | chokurdakh\n",
      "Processing Record City Number: 97 | souillac\n",
      "Processing Record City Number: 98 | dudinka\n",
      "Processing Record City Number: 99 | vao\n",
      "Processing Record City Number: 100 | yinchuan\n",
      "Processing Record City Number: 101 | broome\n",
      "Processing Record City Number: 102 | aksarka\n",
      "Processing Record City Number: 103 | albany\n",
      "Processing Record City Number: 104 | upernavik\n",
      "Processing Record City Number: 105 | port hedland\n",
      "Processing Record City Number: 106 | bandarbeyla\n",
      "City Name: lolua - not found. Skipping...\n",
      "Processing Record City Number: 107 | naze\n",
      "Processing Record City Number: 108 | deputatskiy\n",
      "Processing Record City Number: 109 | pavlodar\n",
      "City Name: attawapiskat - not found. Skipping...\n",
      "Processing Record City Number: 110 | faanui\n",
      "Processing Record City Number: 111 | kapaa\n",
      "City Name: labutta - not found. Skipping...\n",
      "City Name: nizhneyansk - not found. Skipping...\n",
      "Processing Record City Number: 112 | qiongshan\n",
      "Processing Record City Number: 113 | mana\n",
      "Processing Record City Number: 114 | melfort\n",
      "Processing Record City Number: 115 | kulhudhuffushi\n",
      "Processing Record City Number: 116 | ordu\n",
      "Processing Record City Number: 117 | namibe\n",
      "Processing Record City Number: 118 | fairbanks\n",
      "Processing Record City Number: 119 | xapuri\n",
      "City Name: babanusah - not found. Skipping...\n",
      "Processing Record City Number: 120 | piranshahr\n",
      "Processing Record City Number: 121 | campos novos\n",
      "Processing Record City Number: 122 | saint-francois\n",
      "Processing Record City Number: 123 | arraial do cabo\n",
      "Processing Record City Number: 124 | sitka\n",
      "Processing Record City Number: 125 | taltal\n",
      "Processing Record City Number: 126 | cabo san lucas\n",
      "Processing Record City Number: 127 | lebu\n",
      "Processing Record City Number: 128 | nemuro\n",
      "Processing Record City Number: 129 | hilo\n",
      "Processing Record City Number: 130 | kumluca\n",
      "Processing Record City Number: 131 | east london\n",
      "Processing Record City Number: 132 | kaseda\n",
      "Processing Record City Number: 133 | masallatah\n",
      "Processing Record City Number: 134 | nador\n",
      "Processing Record City Number: 135 | kalbay\n",
      "Processing Record City Number: 136 | kavieng\n",
      "Processing Record City Number: 137 | magadan\n",
      "Processing Record City Number: 138 | shimoda\n",
      "Processing Record City Number: 139 | kitimat\n",
      "Processing Record City Number: 140 | sao jose da coroa grande\n",
      "Processing Record City Number: 141 | okhotsk\n",
      "Processing Record City Number: 142 | san fernando\n",
      "Processing Record City Number: 143 | hasaki\n",
      "Processing Record City Number: 144 | castro\n",
      "Processing Record City Number: 145 | saskylakh\n",
      "Processing Record City Number: 146 | angoche\n",
      "City Name: tsihombe - not found. Skipping...\n",
      "Processing Record City Number: 147 | porto novo\n",
      "Processing Record City Number: 148 | mangan\n",
      "City Name: aflu - not found. Skipping...\n",
      "Processing Record City Number: 149 | saint-louis\n",
      "Processing Record City Number: 150 | oktyabrskoye\n",
      "Processing Record City Number: 151 | marquette\n",
      "Processing Record City Number: 152 | tulum\n",
      "Processing Record City Number: 153 | yei\n",
      "Processing Record City Number: 154 | tabas\n",
      "Processing Record City Number: 155 | tura\n",
      "City Name: rawannawi - not found. Skipping...\n",
      "Processing Record City Number: 156 | kingisepp\n",
      "Processing Record City Number: 157 | turukhansk\n",
      "Processing Record City Number: 158 | mobaye\n",
      "Processing Record City Number: 159 | hauterive\n",
      "Processing Record City Number: 160 | egvekinot\n",
      "Processing Record City Number: 161 | caravelas\n",
      "Processing Record City Number: 162 | bozeman\n",
      "City Name: belushya guba - not found. Skipping...\n"
     ]
    },
    {
     "name": "stdout",
     "output_type": "stream",
     "text": [
      "Processing Record City Number: 163 | general roca\n",
      "Processing Record City Number: 164 | suhbaatar\n",
      "Processing Record City Number: 165 | longyearbyen\n",
      "Processing Record City Number: 166 | sabya\n",
      "Processing Record City Number: 167 | pringsewu\n",
      "Processing Record City Number: 168 | nosy varika\n",
      "Processing Record City Number: 169 | camopi\n",
      "Processing Record City Number: 170 | richards bay\n",
      "Processing Record City Number: 171 | villablino\n",
      "Processing Record City Number: 172 | nizhniy kuranakh\n",
      "Processing Record City Number: 173 | kodinsk\n",
      "City Name: mys shmidta - not found. Skipping...\n",
      "Processing Record City Number: 174 | luderitz\n",
      "Processing Record City Number: 175 | sioux lookout\n",
      "Processing Record City Number: 176 | georgetown\n",
      "Processing Record City Number: 177 | chapada dos guimaraes\n",
      "Processing Record City Number: 178 | anshun\n",
      "Processing Record City Number: 179 | menongue\n",
      "City Name: barentsburg - not found. Skipping...\n",
      "Processing Record City Number: 180 | port-gentil\n",
      "Processing Record City Number: 181 | san quintin\n",
      "Processing Record City Number: 182 | sulangan\n",
      "Processing Record City Number: 183 | guerrero negro\n",
      "Processing Record City Number: 184 | sorland\n",
      "Processing Record City Number: 185 | sarkand\n",
      "Processing Record City Number: 186 | esperance\n",
      "City Name: saleaula - not found. Skipping...\n",
      "Processing Record City Number: 187 | tual\n",
      "Processing Record City Number: 188 | quatre cocos\n",
      "Processing Record City Number: 189 | nantucket\n",
      "Processing Record City Number: 190 | saint-raymond\n",
      "Processing Record City Number: 191 | ponta do sol\n",
      "Processing Record City Number: 192 | muslyumovo\n",
      "Processing Record City Number: 193 | alofi\n",
      "Processing Record City Number: 194 | komsomolskiy\n",
      "Processing Record City Number: 195 | namatanai\n",
      "Processing Record City Number: 196 | kishi\n",
      "Processing Record City Number: 197 | oriximina\n",
      "Processing Record City Number: 198 | suwannaphum\n",
      "Processing Record City Number: 199 | pietersburg\n",
      "Processing Record City Number: 200 | benjamin hill\n",
      "Processing Record City Number: 201 | beira\n",
      "Processing Record City Number: 202 | cidreira\n",
      "Processing Record City Number: 203 | kahului\n",
      "City Name: cheuskiny - not found. Skipping...\n",
      "Processing Record City Number: 204 | leningradskiy\n",
      "Processing Record City Number: 205 | kyshtovka\n",
      "Processing Record City Number: 206 | antofagasta\n",
      "City Name: cagayan de tawi-tawi - not found. Skipping...\n",
      "Processing Record City Number: 207 | toamasina\n",
      "Processing Record City Number: 208 | haines junction\n",
      "Processing Record City Number: 209 | nanortalik\n",
      "Processing Record City Number: 210 | viesca\n",
      "Processing Record City Number: 211 | lezajsk\n",
      "Processing Record City Number: 212 | kijang\n",
      "City Name: alibog - not found. Skipping...\n",
      "Processing Record City Number: 213 | pangnirtung\n",
      "Processing Record City Number: 214 | kabwe\n",
      "Processing Record City Number: 215 | villa bruzual\n",
      "Processing Record City Number: 216 | lamu\n",
      "Processing Record City Number: 217 | duzce\n",
      "Processing Record City Number: 218 | ola\n",
      "Processing Record City Number: 219 | tal\n",
      "Processing Record City Number: 220 | torbay\n",
      "Processing Record City Number: 221 | sao miguel do tapuio\n",
      "Processing Record City Number: 222 | marshall\n",
      "Processing Record City Number: 223 | chumikan\n",
      "City Name: ondorhaan - not found. Skipping...\n",
      "City Name: sentyabrskiy - not found. Skipping...\n",
      "Processing Record City Number: 224 | bonthe\n",
      "Processing Record City Number: 225 | lima\n",
      "Processing Record City Number: 226 | salalah\n",
      "Processing Record City Number: 227 | bathsheba\n",
      "Processing Record City Number: 228 | harper\n",
      "City Name: urfa - not found. Skipping...\n",
      "Processing Record City Number: 229 | huilong\n",
      "Processing Record City Number: 230 | alta floresta\n",
      "Processing Record City Number: 231 | belluno\n",
      "Processing Record City Number: 232 | akyab\n",
      "Processing Record City Number: 233 | kungurtug\n",
      "Processing Record City Number: 234 | strathmore\n",
      "Processing Record City Number: 235 | hambantota\n",
      "Processing Record City Number: 236 | saint anthony\n",
      "Processing Record City Number: 237 | odesskoye\n",
      "City Name: korogwe - not found. Skipping...\n",
      "Processing Record City Number: 238 | pogar\n",
      "Processing Record City Number: 239 | saint-augustin\n",
      "Processing Record City Number: 240 | colares\n",
      "Processing Record City Number: 241 | inhambane\n",
      "Processing Record City Number: 242 | acaponeta\n",
      "Processing Record City Number: 243 | marsa matruh\n",
      "Processing Record City Number: 244 | arman\n",
      "Processing Record City Number: 245 | qasigiannguit\n",
      "Processing Record City Number: 246 | tutoia\n",
      "Processing Record City Number: 247 | port blair\n",
      "Processing Record City Number: 248 | jian\n",
      "Processing Record City Number: 249 | contamana\n",
      "City Name: tabiauea - not found. Skipping...\n",
      "Processing Record City Number: 250 | durban\n",
      "Processing Record City Number: 251 | buala\n",
      "Processing Record City Number: 252 | carnot\n",
      "Processing Record City Number: 253 | hami\n",
      "Processing Record City Number: 254 | bama\n",
      "Processing Record City Number: 255 | tahta\n",
      "Processing Record City Number: 256 | brownwood\n",
      "Processing Record City Number: 257 | gimli\n",
      "Processing Record City Number: 258 | cayenne\n",
      "Processing Record City Number: 259 | opuwo\n",
      "Processing Record City Number: 260 | durusu\n",
      "Processing Record City Number: 261 | avera\n",
      "Processing Record City Number: 262 | mehamn\n",
      "City Name: astipalaia - not found. Skipping...\n",
      "Processing Record City Number: 263 | iqaluit\n",
      "Processing Record City Number: 264 | quixeramobim\n",
      "City Name: kamenskoye - not found. Skipping...\n",
      "Processing Record City Number: 265 | katsuura\n",
      "Processing Record City Number: 266 | siderno\n",
      "Processing Record City Number: 267 | heihe\n",
      "Processing Record City Number: 268 | irupi\n",
      "Processing Record City Number: 269 | kota belud\n",
      "Processing Record City Number: 270 | rocha\n",
      "Processing Record City Number: 271 | bredasdorp\n",
      "Processing Record City Number: 272 | talnakh\n",
      "Processing Record City Number: 273 | rimavska sobota\n",
      "Processing Record City Number: 274 | jumla\n",
      "City Name: amderma - not found. Skipping...\n",
      "Processing Record City Number: 275 | santa ana\n",
      "Processing Record City Number: 276 | ballina\n",
      "Processing Record City Number: 277 | buzmeyin\n",
      "Processing Record City Number: 278 | eisiskes\n",
      "Processing Record City Number: 279 | fredericton\n",
      "Processing Record City Number: 280 | poronaysk\n",
      "Processing Record City Number: 281 | kachug\n",
      "Processing Record City Number: 282 | bilma\n",
      "Processing Record City Number: 283 | hongjiang\n",
      "Processing Record City Number: 284 | san jeronimo\n",
      "Processing Record City Number: 285 | primorsko-akhtarsk\n",
      "Processing Record City Number: 286 | kaohsiung\n",
      "City Name: grand river south east - not found. Skipping...\n",
      "Processing Record City Number: 287 | camacha\n",
      "Processing Record City Number: 288 | aras\n",
      "Processing Record City Number: 289 | samarai\n",
      "Processing Record City Number: 290 | yuzhno-kurilsk\n",
      "Processing Record City Number: 291 | plainfield\n",
      "Processing Record City Number: 292 | itoman\n",
      "Processing Record City Number: 293 | gayeri\n",
      "Processing Record City Number: 294 | kapchorwa\n",
      "Processing Record City Number: 295 | barra do garcas\n",
      "Processing Record City Number: 296 | ayotzintepec\n",
      "Processing Record City Number: 297 | acapulco\n",
      "Processing Record City Number: 298 | gladstone\n",
      "Processing Record City Number: 299 | ushtobe\n",
      "Processing Record City Number: 300 | shingu\n",
      "Processing Record City Number: 301 | daud khel\n",
      "Processing Record City Number: 302 | clyde river\n",
      "Processing Record City Number: 303 | pangkalanbuun\n",
      "Processing Record City Number: 304 | alice springs\n",
      "Processing Record City Number: 305 | flinders\n",
      "City Name: othonoi - not found. Skipping...\n",
      "Processing Record City Number: 306 | araxa\n",
      "Processing Record City Number: 307 | santa fe\n",
      "Processing Record City Number: 308 | ilulissat\n",
      "Processing Record City Number: 309 | wiang sa\n",
      "Processing Record City Number: 310 | griffith\n",
      "Processing Record City Number: 311 | tarabuco\n",
      "Processing Record City Number: 312 | la paz\n",
      "Processing Record City Number: 313 | thaba-tseka\n",
      "Processing Record City Number: 314 | ituiutaba\n",
      "Processing Record City Number: 315 | vestmannaeyjar\n",
      "Processing Record City Number: 316 | moose factory\n",
      "Processing Record City Number: 317 | bethel\n",
      "Processing Record City Number: 318 | vagur\n",
      "Processing Record City Number: 319 | ahipara\n",
      "Processing Record City Number: 320 | san luis\n",
      "Processing Record City Number: 321 | lorengau\n",
      "City Name: khonuu - not found. Skipping...\n"
     ]
    },
    {
     "name": "stdout",
     "output_type": "stream",
     "text": [
      "Processing Record City Number: 322 | mahebourg\n",
      "Processing Record City Number: 323 | pozhva\n",
      "Processing Record City Number: 324 | thunder bay\n",
      "Processing Record City Number: 325 | saint george\n",
      "Processing Record City Number: 326 | port hardy\n",
      "Processing Record City Number: 327 | manta\n",
      "Processing Record City Number: 328 | bisira\n",
      "City Name: samalaeulu - not found. Skipping...\n",
      "Processing Record City Number: 329 | chernogorsk\n",
      "Processing Record City Number: 330 | zhezkazgan\n",
      "Processing Record City Number: 331 | tigil\n",
      "Processing Record City Number: 332 | meulaboh\n",
      "Processing Record City Number: 333 | saint-pierre\n",
      "Processing Record City Number: 334 | gorom-gorom\n",
      "Processing Record City Number: 335 | muros\n",
      "Processing Record City Number: 336 | zalantun\n",
      "Processing Record City Number: 337 | sambava\n",
      "Processing Record City Number: 338 | san patricio\n",
      "City Name: vaitupu - not found. Skipping...\n",
      "Processing Record City Number: 339 | surgut\n",
      "Processing Record City Number: 340 | salinas\n",
      "Processing Record City Number: 341 | antalaha\n",
      "Processing Record City Number: 342 | dakar\n",
      "Processing Record City Number: 343 | poya\n",
      "Processing Record City Number: 344 | aqtobe\n",
      "Processing Record City Number: 345 | moron\n",
      "Processing Record City Number: 346 | berlevag\n",
      "Processing Record City Number: 347 | culpeper\n",
      "Processing Record City Number: 348 | lata\n",
      "Processing Record City Number: 349 | jalu\n",
      "City Name: ruatoria - not found. Skipping...\n",
      "Processing Record City Number: 350 | nueva loja\n",
      "Processing Record City Number: 351 | devonport\n",
      "Processing Record City Number: 352 | shenjiamen\n",
      "Processing Record City Number: 353 | natal\n",
      "Processing Record City Number: 354 | urucara\n",
      "Processing Record City Number: 355 | quatis\n",
      "Processing Record City Number: 356 | moindou\n",
      "Processing Record City Number: 357 | tezu\n",
      "Processing Record City Number: 358 | kutum\n",
      "Processing Record City Number: 359 | altay\n",
      "Processing Record City Number: 360 | cabedelo\n",
      "Processing Record City Number: 361 | strezhevoy\n",
      "Processing Record City Number: 362 | prainha\n",
      "Processing Record City Number: 363 | protvino\n",
      "Processing Record City Number: 364 | sabha\n",
      "Processing Record City Number: 365 | kedrovyy\n",
      "Processing Record City Number: 366 | ikongo\n",
      "Processing Record City Number: 367 | lethem\n",
      "Processing Record City Number: 368 | bridlington\n",
      "Processing Record City Number: 369 | aykhal\n",
      "Processing Record City Number: 370 | quimper\n",
      "Processing Record City Number: 371 | rawson\n",
      "Processing Record City Number: 372 | itaituba\n",
      "Processing Record City Number: 373 | anadyr\n",
      "Processing Record City Number: 374 | imeni poliny osipenko\n",
      "Processing Record City Number: 375 | tabou\n",
      "City Name: halalo - not found. Skipping...\n",
      "Processing Record City Number: 376 | lloydminster\n",
      "Processing Record City Number: 377 | vila velha\n",
      "Processing Record City Number: 378 | marawi\n",
      "Processing Record City Number: 379 | dukat\n",
      "Processing Record City Number: 380 | lewiston\n",
      "Processing Record City Number: 381 | waipawa\n",
      "Processing Record City Number: 382 | hohhot\n",
      "Processing Record City Number: 383 | lipin bor\n",
      "Processing Record City Number: 384 | lengshuijiang\n",
      "Processing Record City Number: 385 | rio grande\n",
      "Processing Record City Number: 386 | port-cartier\n",
      "Processing Record City Number: 387 | westport\n",
      "Processing Record City Number: 388 | college\n",
      "City Name: haibowan - not found. Skipping...\n",
      "Processing Record City Number: 389 | surt\n",
      "City Name: tumannyy - not found. Skipping...\n",
      "Processing Record City Number: 390 | montbrison\n",
      "City Name: nam tha - not found. Skipping...\n",
      "Processing Record City Number: 391 | kruisfontein\n",
      "Processing Record City Number: 392 | awjilah\n",
      "Processing Record City Number: 393 | prince rupert\n",
      "Processing Record City Number: 394 | eureka\n",
      "Processing Record City Number: 395 | mol\n",
      "Processing Record City Number: 396 | usinsk\n",
      "Processing Record City Number: 397 | zhengjiatun\n",
      "Processing Record City Number: 398 | kerema\n",
      "Processing Record City Number: 399 | pemba\n",
      "Processing Record City Number: 400 | osuna\n",
      "Processing Record City Number: 401 | toledo\n",
      "Processing Record City Number: 402 | coquimbo\n",
      "Processing Record City Number: 403 | mosquera\n",
      "Processing Record City Number: 404 | biltine\n",
      "Processing Record City Number: 405 | oktyabrskiy\n",
      "Processing Record City Number: 406 | ippy\n",
      "Processing Record City Number: 407 | burgos\n",
      "Processing Record City Number: 408 | svetlogorsk\n",
      "Processing Record City Number: 409 | laguna\n",
      "Processing Record City Number: 410 | kidal\n",
      "Processing Record City Number: 411 | inirida\n",
      "Processing Record City Number: 412 | sao gabriel da cachoeira\n",
      "Processing Record City Number: 413 | mahina\n",
      "City Name: saleilua - not found. Skipping...\n",
      "Processing Record City Number: 414 | syracuse\n",
      "Processing Record City Number: 415 | udachnyy\n",
      "Processing Record City Number: 416 | gorontalo\n",
      "Processing Record City Number: 417 | saraland\n",
      "Processing Record City Number: 418 | maragogi\n",
      "Processing Record City Number: 419 | finschhafen\n",
      "City Name: chiguiri arriba - not found. Skipping...\n",
      "Processing Record City Number: 420 | kargil\n",
      "Processing Record City Number: 421 | kirkintilloch\n",
      "Processing Record City Number: 422 | kumi\n",
      "Processing Record City Number: 423 | hobyo\n",
      "Processing Record City Number: 424 | hay river\n",
      "Processing Record City Number: 425 | ayan\n",
      "Processing Record City Number: 426 | nicoya\n",
      "Processing Record City Number: 427 | jiamusi\n",
      "Processing Record City Number: 428 | kasongo-lunda\n",
      "Processing Record City Number: 429 | broken hill\n",
      "Processing Record City Number: 430 | lososina\n",
      "Processing Record City Number: 431 | oberwart\n",
      "Processing Record City Number: 432 | ust-maya\n",
      "Processing Record City Number: 433 | maniitsoq\n",
      "Processing Record City Number: 434 | mayskiy\n",
      "Processing Record City Number: 435 | cruzeiro\n",
      "Processing Record City Number: 436 | bengkulu\n",
      "Processing Record City Number: 437 | howard springs\n",
      "Processing Record City Number: 438 | corrente\n",
      "Processing Record City Number: 439 | winnipeg\n",
      "Processing Record City Number: 440 | sibolga\n",
      "Processing Record City Number: 441 | los algarrobos\n",
      "Processing Record City Number: 442 | wamba\n",
      "Processing Record City Number: 443 | bubaque\n",
      "Processing Record City Number: 444 | mecca\n",
      "Processing Record City Number: 445 | mezokovacshaza\n",
      "Processing Record City Number: 446 | usogorsk\n",
      "Processing Record City Number: 447 | ixtapa\n",
      "Processing Record City Number: 448 | varnamo\n",
      "Processing Record City Number: 449 | presidencia roque saenz pena\n",
      "City Name: hihifo - not found. Skipping...\n",
      "Processing Record City Number: 450 | miri\n",
      "Processing Record City Number: 451 | kedougou\n",
      "Processing Record City Number: 452 | ostersund\n",
      "Processing Record City Number: 453 | ginir\n",
      "Processing Record City Number: 454 | lavrentiya\n",
      "Processing Record City Number: 455 | carutapera\n",
      "Processing Record City Number: 456 | fukue\n",
      "City Name: mocambique - not found. Skipping...\n",
      "Processing Record City Number: 457 | londoko\n",
      "Processing Record City Number: 458 | luanda\n",
      "Processing Record City Number: 459 | lagoa\n",
      "Processing Record City Number: 460 | katherine\n",
      "Processing Record City Number: 461 | soure\n",
      "Processing Record City Number: 462 | solnechnyy\n",
      "Processing Record City Number: 463 | roma\n",
      "Processing Record City Number: 464 | merauke\n",
      "City Name: ngukurr - not found. Skipping...\n",
      "Processing Record City Number: 465 | tautira\n",
      "Processing Record City Number: 466 | ozernovskiy\n",
      "Processing Record City Number: 467 | timmins\n",
      "Processing Record City Number: 468 | puerto escondido\n",
      "Processing Record City Number: 469 | aljezur\n",
      "Processing Record City Number: 470 | ombessa\n",
      "Processing Record City Number: 471 | alghero\n",
      "Processing Record City Number: 472 | arlit\n",
      "Processing Record City Number: 473 | providencia\n",
      "Processing Record City Number: 474 | anito\n",
      "Processing Record City Number: 475 | plettenberg bay\n",
      "Processing Record City Number: 476 | kedainiai\n",
      "Processing Record City Number: 477 | kashipur\n",
      "Processing Record City Number: 478 | dingle\n",
      "Processing Record City Number: 479 | klooga\n",
      "Processing Record City Number: 480 | skibbereen\n",
      "Processing Record City Number: 481 | bose\n",
      "Processing Record City Number: 482 | muzhi\n",
      "Processing Record City Number: 483 | bud\n",
      "Processing Record City Number: 484 | bismarck\n",
      "Processing Record City Number: 485 | angoram\n",
      "Processing Record City Number: 486 | utinga\n",
      "Processing Record City Number: 487 | sistranda\n",
      "Processing Record City Number: 488 | mnogovershinnyy\n"
     ]
    },
    {
     "name": "stdout",
     "output_type": "stream",
     "text": [
      "Processing Record City Number: 489 | narsaq\n",
      "Processing Record City Number: 490 | astoria\n",
      "Processing Record City Number: 491 | hamilton\n",
      "Processing Record City Number: 492 | whitehorse\n",
      "Processing Record City Number: 493 | peniche\n",
      "Processing Record City Number: 494 | aklavik\n",
      "Processing Record City Number: 495 | bambari\n",
      "Processing Record City Number: 496 | mayumba\n",
      "Processing Record City Number: 497 | pacifica\n",
      "Processing Record City Number: 498 | tomatlan\n",
      "Processing Record City Number: 499 | vaitape\n",
      "Processing Record City Number: 500 | noumea\n",
      "Processing Record City Number: 501 | juneau\n",
      "Processing Record City Number: 502 | solwezi\n",
      "Processing Record City Number: 503 | acarau\n",
      "Processing Record City Number: 504 | pochutla\n",
      "Processing Record City Number: 505 | itabuna\n",
      "Processing Record City Number: 506 | eagle pass\n",
      "Processing Record City Number: 507 | mercedes\n",
      "Processing Record City Number: 508 | petropavlovsk-kamchatskiy\n",
      "Processing Record City Number: 509 | flin flon\n",
      "Processing Record City Number: 510 | adjumani\n",
      "Processing Record City Number: 511 | isangel\n",
      "Processing Record City Number: 512 | kutoarjo\n",
      "Processing Record City Number: 513 | nouakchott\n",
      "Processing Record City Number: 514 | mount isa\n",
      "Processing Record City Number: 515 | petropavlovka\n",
      "Processing Record City Number: 516 | bairiki\n",
      "--------------------------------\n",
      "Data Retrival Complete\n",
      "--------------------------------\n"
     ]
    }
   ],
   "source": [
    "url = \"http://api.openweathermap.org/data/2.5/weather?\"\n",
    "units = \"imperial\"\n",
    "\n",
    "# Build partial query URL\n",
    "query_url = f\"{url}appid={api_key}&units={units}&q=\"\n",
    "\n",
    "cities_found = 0\n",
    "\n",
    "for index, row in weather_data.iterrows():\n",
    "    city = row['City']   \n",
    "    response = requests.get(query_url + city).json()   \n",
    "    try:\n",
    "        weather_data.loc[index, 'Lat'] = response['coord']['lat']\n",
    "        weather_data.loc[index, 'Lng'] = response['coord']['lon']\n",
    "        weather_data.loc[index, 'Temp'] = response['main']['temp']\n",
    "        weather_data.loc[index, 'Humidity'] = response['main']['humidity']\n",
    "        weather_data.loc[index, 'Cloudiness'] = response['clouds']['all']\n",
    "        weather_data.loc[index, 'Wind Speed'] = response['wind']['speed']\n",
    "        weather_data.loc[index, 'Country'] = response['sys']['country']\n",
    "        weather_data.loc[index, 'Date'] = response['dt']\n",
    "        \n",
    "        cities_found +=1\n",
    "        print(f\"Processing Record City Number: {cities_found} | {city}\")\n",
    "        \n",
    "    except KeyError:\n",
    "        weather_data.loc[index, 'flag'] = \"d\"\n",
    "        print(f\"City Name: {city} - not found. Skipping...\")\n",
    "        \n",
    "        continue\n",
    "print('--------------------------------')        \n",
    "print('Data Retrival Complete')        \n",
    "print('--------------------------------')        "
   ]
  },
  {
   "cell_type": "code",
   "execution_count": 5,
   "metadata": {},
   "outputs": [
    {
     "data": {
      "text/plain": [
       "516"
      ]
     },
     "execution_count": 5,
     "metadata": {},
     "output_type": "execute_result"
    }
   ],
   "source": [
    "\n",
    "empty_cities = weather_data.loc[weather_data['flag'] == 'd']\n",
    "#len(weather_data)\n",
    "weather_data.drop(empty_cities.index, inplace=True)\n",
    "#len(weather_data)\n",
    "#weather_data\n",
    "weather_data = weather_data.drop(['flag'], axis=1)\n",
    "#weather_data.loc[weather_data['Temp'] == '']\n",
    "len(weather_data)"
   ]
  },
  {
   "cell_type": "markdown",
   "metadata": {},
   "source": [
    "## Convert Raw Data to DataFrame\n",
    "### Export the city data into a .csv.\n",
    "### Display the DataFrame"
   ]
  },
  {
   "cell_type": "code",
   "execution_count": 7,
   "metadata": {},
   "outputs": [],
   "source": [
    "# Saving Data Frame to CSV File \n",
    "weather_data.to_csv('output_data/Final_WeatherData_DF.csv')\n"
   ]
  },
  {
   "cell_type": "code",
   "execution_count": 8,
   "metadata": {},
   "outputs": [
    {
     "data": {
      "text/plain": [
       "City          516\n",
       "Lat           516\n",
       "Lng           516\n",
       "Temp          516\n",
       "Humidity      516\n",
       "Cloudiness    516\n",
       "Wind Speed    516\n",
       "Country       516\n",
       "Date          516\n",
       "dtype: int64"
      ]
     },
     "execution_count": 8,
     "metadata": {},
     "output_type": "execute_result"
    }
   ],
   "source": [
    "weather_data.count()"
   ]
  },
  {
   "cell_type": "code",
   "execution_count": 9,
   "metadata": {},
   "outputs": [
    {
     "data": {
      "text/html": [
       "<div>\n",
       "<style scoped>\n",
       "    .dataframe tbody tr th:only-of-type {\n",
       "        vertical-align: middle;\n",
       "    }\n",
       "\n",
       "    .dataframe tbody tr th {\n",
       "        vertical-align: top;\n",
       "    }\n",
       "\n",
       "    .dataframe thead th {\n",
       "        text-align: right;\n",
       "    }\n",
       "</style>\n",
       "<table border=\"1\" class=\"dataframe\">\n",
       "  <thead>\n",
       "    <tr style=\"text-align: right;\">\n",
       "      <th></th>\n",
       "      <th>City</th>\n",
       "      <th>Lat</th>\n",
       "      <th>Lng</th>\n",
       "      <th>Temp</th>\n",
       "      <th>Humidity</th>\n",
       "      <th>Cloudiness</th>\n",
       "      <th>Wind Speed</th>\n",
       "      <th>Country</th>\n",
       "      <th>Date</th>\n",
       "    </tr>\n",
       "  </thead>\n",
       "  <tbody>\n",
       "    <tr>\n",
       "      <th>0</th>\n",
       "      <td>ushuaia</td>\n",
       "      <td>-54.80</td>\n",
       "      <td>-68.30</td>\n",
       "      <td>41.00</td>\n",
       "      <td>75</td>\n",
       "      <td>75</td>\n",
       "      <td>1.81</td>\n",
       "      <td>AR</td>\n",
       "      <td>1599248388</td>\n",
       "    </tr>\n",
       "    <tr>\n",
       "      <th>1</th>\n",
       "      <td>port lincoln</td>\n",
       "      <td>-34.73</td>\n",
       "      <td>135.87</td>\n",
       "      <td>53.10</td>\n",
       "      <td>87</td>\n",
       "      <td>0</td>\n",
       "      <td>6.93</td>\n",
       "      <td>AU</td>\n",
       "      <td>1599248490</td>\n",
       "    </tr>\n",
       "    <tr>\n",
       "      <th>2</th>\n",
       "      <td>new norfolk</td>\n",
       "      <td>-42.78</td>\n",
       "      <td>147.06</td>\n",
       "      <td>48.74</td>\n",
       "      <td>70</td>\n",
       "      <td>69</td>\n",
       "      <td>3.36</td>\n",
       "      <td>AU</td>\n",
       "      <td>1599248490</td>\n",
       "    </tr>\n",
       "    <tr>\n",
       "      <th>3</th>\n",
       "      <td>jamestown</td>\n",
       "      <td>42.10</td>\n",
       "      <td>-79.24</td>\n",
       "      <td>67.60</td>\n",
       "      <td>48</td>\n",
       "      <td>20</td>\n",
       "      <td>13.87</td>\n",
       "      <td>US</td>\n",
       "      <td>1599248490</td>\n",
       "    </tr>\n",
       "    <tr>\n",
       "      <th>4</th>\n",
       "      <td>gravdal</td>\n",
       "      <td>68.12</td>\n",
       "      <td>13.50</td>\n",
       "      <td>55.40</td>\n",
       "      <td>93</td>\n",
       "      <td>75</td>\n",
       "      <td>3.36</td>\n",
       "      <td>NO</td>\n",
       "      <td>1599248491</td>\n",
       "    </tr>\n",
       "  </tbody>\n",
       "</table>\n",
       "</div>"
      ],
      "text/plain": [
       "           City    Lat     Lng   Temp  Humidity  Cloudiness  Wind Speed  \\\n",
       "0       ushuaia -54.80  -68.30  41.00        75          75        1.81   \n",
       "1  port lincoln -34.73  135.87  53.10        87           0        6.93   \n",
       "2   new norfolk -42.78  147.06  48.74        70          69        3.36   \n",
       "3     jamestown  42.10  -79.24  67.60        48          20       13.87   \n",
       "4       gravdal  68.12   13.50  55.40        93          75        3.36   \n",
       "\n",
       "  Country        Date  \n",
       "0      AR  1599248388  \n",
       "1      AU  1599248490  \n",
       "2      AU  1599248490  \n",
       "3      US  1599248490  \n",
       "4      NO  1599248491  "
      ]
     },
     "execution_count": 9,
     "metadata": {},
     "output_type": "execute_result"
    }
   ],
   "source": [
    "weather_data.head()"
   ]
  },
  {
   "cell_type": "markdown",
   "metadata": {},
   "source": [
    "#### Inspect the data and remove the cities where the humidity > 100%.\n",
    "\n",
    "##### Skip this step if there are no cities that have humidity > 100%."
   ]
  },
  {
   "cell_type": "code",
   "execution_count": 10,
   "metadata": {},
   "outputs": [
    {
     "data": {
      "text/plain": [
       "512"
      ]
     },
     "execution_count": 10,
     "metadata": {},
     "output_type": "execute_result"
    }
   ],
   "source": [
    "humidity_data = weather_data.loc[weather_data.Temp > 100]\n",
    "weather_data.drop(humidity_data.index, inplace=True)\n",
    "\n",
    "humidity_data\n",
    "\n",
    "len(weather_data)"
   ]
  },
  {
   "cell_type": "code",
   "execution_count": 11,
   "metadata": {},
   "outputs": [
    {
     "data": {
      "text/html": [
       "<div>\n",
       "<style scoped>\n",
       "    .dataframe tbody tr th:only-of-type {\n",
       "        vertical-align: middle;\n",
       "    }\n",
       "\n",
       "    .dataframe tbody tr th {\n",
       "        vertical-align: top;\n",
       "    }\n",
       "\n",
       "    .dataframe thead th {\n",
       "        text-align: right;\n",
       "    }\n",
       "</style>\n",
       "<table border=\"1\" class=\"dataframe\">\n",
       "  <thead>\n",
       "    <tr style=\"text-align: right;\">\n",
       "      <th></th>\n",
       "      <th>Lat</th>\n",
       "      <th>Lng</th>\n",
       "      <th>Temp</th>\n",
       "      <th>Humidity</th>\n",
       "      <th>Cloudiness</th>\n",
       "      <th>Wind Speed</th>\n",
       "      <th>Date</th>\n",
       "    </tr>\n",
       "  </thead>\n",
       "  <tbody>\n",
       "    <tr>\n",
       "      <th>count</th>\n",
       "      <td>512.000000</td>\n",
       "      <td>512.000000</td>\n",
       "      <td>512.000000</td>\n",
       "      <td>512.000000</td>\n",
       "      <td>512.000000</td>\n",
       "      <td>512.000000</td>\n",
       "      <td>5.120000e+02</td>\n",
       "    </tr>\n",
       "    <tr>\n",
       "      <th>mean</th>\n",
       "      <td>20.468906</td>\n",
       "      <td>16.136582</td>\n",
       "      <td>67.714453</td>\n",
       "      <td>70.248047</td>\n",
       "      <td>47.441406</td>\n",
       "      <td>8.195937</td>\n",
       "      <td>1.599249e+09</td>\n",
       "    </tr>\n",
       "    <tr>\n",
       "      <th>std</th>\n",
       "      <td>33.092758</td>\n",
       "      <td>91.670925</td>\n",
       "      <td>14.781424</td>\n",
       "      <td>20.573647</td>\n",
       "      <td>38.664755</td>\n",
       "      <td>5.578343</td>\n",
       "      <td>9.384302e+01</td>\n",
       "    </tr>\n",
       "    <tr>\n",
       "      <th>min</th>\n",
       "      <td>-54.800000</td>\n",
       "      <td>-179.170000</td>\n",
       "      <td>28.110000</td>\n",
       "      <td>8.000000</td>\n",
       "      <td>0.000000</td>\n",
       "      <td>0.600000</td>\n",
       "      <td>1.599248e+09</td>\n",
       "    </tr>\n",
       "    <tr>\n",
       "      <th>25%</th>\n",
       "      <td>-7.067500</td>\n",
       "      <td>-60.505000</td>\n",
       "      <td>57.200000</td>\n",
       "      <td>58.000000</td>\n",
       "      <td>2.000000</td>\n",
       "      <td>3.710000</td>\n",
       "      <td>1.599249e+09</td>\n",
       "    </tr>\n",
       "    <tr>\n",
       "      <th>50%</th>\n",
       "      <td>26.185000</td>\n",
       "      <td>16.445000</td>\n",
       "      <td>69.000000</td>\n",
       "      <td>77.000000</td>\n",
       "      <td>40.000000</td>\n",
       "      <td>6.835000</td>\n",
       "      <td>1.599249e+09</td>\n",
       "    </tr>\n",
       "    <tr>\n",
       "      <th>75%</th>\n",
       "      <td>48.602500</td>\n",
       "      <td>99.227500</td>\n",
       "      <td>78.800000</td>\n",
       "      <td>86.000000</td>\n",
       "      <td>86.500000</td>\n",
       "      <td>11.300000</td>\n",
       "      <td>1.599249e+09</td>\n",
       "    </tr>\n",
       "    <tr>\n",
       "      <th>max</th>\n",
       "      <td>78.220000</td>\n",
       "      <td>179.320000</td>\n",
       "      <td>98.600000</td>\n",
       "      <td>100.000000</td>\n",
       "      <td>100.000000</td>\n",
       "      <td>32.210000</td>\n",
       "      <td>1.599249e+09</td>\n",
       "    </tr>\n",
       "  </tbody>\n",
       "</table>\n",
       "</div>"
      ],
      "text/plain": [
       "              Lat         Lng        Temp    Humidity  Cloudiness  Wind Speed  \\\n",
       "count  512.000000  512.000000  512.000000  512.000000  512.000000  512.000000   \n",
       "mean    20.468906   16.136582   67.714453   70.248047   47.441406    8.195937   \n",
       "std     33.092758   91.670925   14.781424   20.573647   38.664755    5.578343   \n",
       "min    -54.800000 -179.170000   28.110000    8.000000    0.000000    0.600000   \n",
       "25%     -7.067500  -60.505000   57.200000   58.000000    2.000000    3.710000   \n",
       "50%     26.185000   16.445000   69.000000   77.000000   40.000000    6.835000   \n",
       "75%     48.602500   99.227500   78.800000   86.000000   86.500000   11.300000   \n",
       "max     78.220000  179.320000   98.600000  100.000000  100.000000   32.210000   \n",
       "\n",
       "               Date  \n",
       "count  5.120000e+02  \n",
       "mean   1.599249e+09  \n",
       "std    9.384302e+01  \n",
       "min    1.599248e+09  \n",
       "25%    1.599249e+09  \n",
       "50%    1.599249e+09  \n",
       "75%    1.599249e+09  \n",
       "max    1.599249e+09  "
      ]
     },
     "execution_count": 11,
     "metadata": {},
     "output_type": "execute_result"
    }
   ],
   "source": [
    "weather_data[['Lat','Lng','Temp','Humidity','Cloudiness','Wind Speed','Date']].describe()"
   ]
  },
  {
   "cell_type": "code",
   "execution_count": 12,
   "metadata": {},
   "outputs": [
    {
     "data": {
      "text/html": [
       "<div>\n",
       "<style scoped>\n",
       "    .dataframe tbody tr th:only-of-type {\n",
       "        vertical-align: middle;\n",
       "    }\n",
       "\n",
       "    .dataframe tbody tr th {\n",
       "        vertical-align: top;\n",
       "    }\n",
       "\n",
       "    .dataframe thead th {\n",
       "        text-align: right;\n",
       "    }\n",
       "</style>\n",
       "<table border=\"1\" class=\"dataframe\">\n",
       "  <thead>\n",
       "    <tr style=\"text-align: right;\">\n",
       "      <th></th>\n",
       "      <th>City</th>\n",
       "      <th>Lat</th>\n",
       "      <th>Lng</th>\n",
       "      <th>Temp</th>\n",
       "      <th>Humidity</th>\n",
       "      <th>Cloudiness</th>\n",
       "      <th>Wind Speed</th>\n",
       "      <th>Country</th>\n",
       "      <th>Date</th>\n",
       "    </tr>\n",
       "  </thead>\n",
       "  <tbody>\n",
       "    <tr>\n",
       "      <th>0</th>\n",
       "      <td>ushuaia</td>\n",
       "      <td>-54.80</td>\n",
       "      <td>-68.30</td>\n",
       "      <td>41.00</td>\n",
       "      <td>75</td>\n",
       "      <td>75</td>\n",
       "      <td>1.81</td>\n",
       "      <td>AR</td>\n",
       "      <td>1599248388</td>\n",
       "    </tr>\n",
       "    <tr>\n",
       "      <th>1</th>\n",
       "      <td>port lincoln</td>\n",
       "      <td>-34.73</td>\n",
       "      <td>135.87</td>\n",
       "      <td>53.10</td>\n",
       "      <td>87</td>\n",
       "      <td>0</td>\n",
       "      <td>6.93</td>\n",
       "      <td>AU</td>\n",
       "      <td>1599248490</td>\n",
       "    </tr>\n",
       "    <tr>\n",
       "      <th>2</th>\n",
       "      <td>new norfolk</td>\n",
       "      <td>-42.78</td>\n",
       "      <td>147.06</td>\n",
       "      <td>48.74</td>\n",
       "      <td>70</td>\n",
       "      <td>69</td>\n",
       "      <td>3.36</td>\n",
       "      <td>AU</td>\n",
       "      <td>1599248490</td>\n",
       "    </tr>\n",
       "    <tr>\n",
       "      <th>3</th>\n",
       "      <td>jamestown</td>\n",
       "      <td>42.10</td>\n",
       "      <td>-79.24</td>\n",
       "      <td>67.60</td>\n",
       "      <td>48</td>\n",
       "      <td>20</td>\n",
       "      <td>13.87</td>\n",
       "      <td>US</td>\n",
       "      <td>1599248490</td>\n",
       "    </tr>\n",
       "    <tr>\n",
       "      <th>4</th>\n",
       "      <td>gravdal</td>\n",
       "      <td>68.12</td>\n",
       "      <td>13.50</td>\n",
       "      <td>55.40</td>\n",
       "      <td>93</td>\n",
       "      <td>75</td>\n",
       "      <td>3.36</td>\n",
       "      <td>NO</td>\n",
       "      <td>1599248491</td>\n",
       "    </tr>\n",
       "    <tr>\n",
       "      <th>...</th>\n",
       "      <td>...</td>\n",
       "      <td>...</td>\n",
       "      <td>...</td>\n",
       "      <td>...</td>\n",
       "      <td>...</td>\n",
       "      <td>...</td>\n",
       "      <td>...</td>\n",
       "      <td>...</td>\n",
       "      <td>...</td>\n",
       "    </tr>\n",
       "    <tr>\n",
       "      <th>558</th>\n",
       "      <td>kutoarjo</td>\n",
       "      <td>-7.72</td>\n",
       "      <td>109.91</td>\n",
       "      <td>76.35</td>\n",
       "      <td>84</td>\n",
       "      <td>95</td>\n",
       "      <td>4.83</td>\n",
       "      <td>ID</td>\n",
       "      <td>1599248698</td>\n",
       "    </tr>\n",
       "    <tr>\n",
       "      <th>559</th>\n",
       "      <td>nouakchott</td>\n",
       "      <td>18.09</td>\n",
       "      <td>-15.98</td>\n",
       "      <td>80.60</td>\n",
       "      <td>83</td>\n",
       "      <td>40</td>\n",
       "      <td>8.05</td>\n",
       "      <td>MR</td>\n",
       "      <td>1599248423</td>\n",
       "    </tr>\n",
       "    <tr>\n",
       "      <th>560</th>\n",
       "      <td>mount isa</td>\n",
       "      <td>-20.73</td>\n",
       "      <td>139.50</td>\n",
       "      <td>69.80</td>\n",
       "      <td>28</td>\n",
       "      <td>0</td>\n",
       "      <td>4.70</td>\n",
       "      <td>AU</td>\n",
       "      <td>1599248526</td>\n",
       "    </tr>\n",
       "    <tr>\n",
       "      <th>561</th>\n",
       "      <td>petropavlovka</td>\n",
       "      <td>50.61</td>\n",
       "      <td>105.32</td>\n",
       "      <td>55.38</td>\n",
       "      <td>79</td>\n",
       "      <td>91</td>\n",
       "      <td>1.23</td>\n",
       "      <td>RU</td>\n",
       "      <td>1599248699</td>\n",
       "    </tr>\n",
       "    <tr>\n",
       "      <th>562</th>\n",
       "      <td>bairiki</td>\n",
       "      <td>1.33</td>\n",
       "      <td>172.98</td>\n",
       "      <td>82.40</td>\n",
       "      <td>74</td>\n",
       "      <td>40</td>\n",
       "      <td>6.93</td>\n",
       "      <td>KI</td>\n",
       "      <td>1599248699</td>\n",
       "    </tr>\n",
       "  </tbody>\n",
       "</table>\n",
       "<p>512 rows × 9 columns</p>\n",
       "</div>"
      ],
      "text/plain": [
       "              City    Lat     Lng   Temp  Humidity  Cloudiness  Wind Speed  \\\n",
       "0          ushuaia -54.80  -68.30  41.00        75          75        1.81   \n",
       "1     port lincoln -34.73  135.87  53.10        87           0        6.93   \n",
       "2      new norfolk -42.78  147.06  48.74        70          69        3.36   \n",
       "3        jamestown  42.10  -79.24  67.60        48          20       13.87   \n",
       "4          gravdal  68.12   13.50  55.40        93          75        3.36   \n",
       "..             ...    ...     ...    ...       ...         ...         ...   \n",
       "558       kutoarjo  -7.72  109.91  76.35        84          95        4.83   \n",
       "559     nouakchott  18.09  -15.98  80.60        83          40        8.05   \n",
       "560      mount isa -20.73  139.50  69.80        28           0        4.70   \n",
       "561  petropavlovka  50.61  105.32  55.38        79          91        1.23   \n",
       "562        bairiki   1.33  172.98  82.40        74          40        6.93   \n",
       "\n",
       "    Country        Date  \n",
       "0        AR  1599248388  \n",
       "1        AU  1599248490  \n",
       "2        AU  1599248490  \n",
       "3        US  1599248490  \n",
       "4        NO  1599248491  \n",
       "..      ...         ...  \n",
       "558      ID  1599248698  \n",
       "559      MR  1599248423  \n",
       "560      AU  1599248526  \n",
       "561      RU  1599248699  \n",
       "562      KI  1599248699  \n",
       "\n",
       "[512 rows x 9 columns]"
      ]
     },
     "execution_count": 12,
     "metadata": {},
     "output_type": "execute_result"
    }
   ],
   "source": [
    "weather_data"
   ]
  },
  {
   "cell_type": "markdown",
   "metadata": {},
   "source": [
    "## Plotting the Data\n",
    "\n",
    "#### Use proper labeling of the plots using plot titles (including date of analysis) and axes labels.\n",
    "#### Save the plotted figures as .pngs."
   ]
  },
  {
   "cell_type": "markdown",
   "metadata": {},
   "source": [
    "## Latitude vs. Temperature Plot"
   ]
  },
  {
   "cell_type": "code",
   "execution_count": 13,
   "metadata": {},
   "outputs": [
    {
     "data": {
      "image/png": "[encoded data removed]",
      "text/plain": [
       "<Figure size 432x288 with 1 Axes>"
      ]
     },
     "metadata": {
      "needs_background": "light"
     },
     "output_type": "display_data"
    }
   ],
   "source": [
    "#Latitude vs Temperature\n",
    "\n",
    "y = weather_data.Temp\n",
    "x = weather_data.Lat\n",
    "plt.scatter(x,y,marker = 'o')\n",
    "plt.title(f\"City Latitude vs. Temperature\")\n",
    "plt.xlabel('Latitude')\n",
    "plt.ylabel('Temperature(F)')\n",
    "plt.grid(color='gray', linestyle='-', linewidth=1)\n",
    "plt.savefig('WeatherPy_Lat_vs_Temp.png')\n",
    "plt.show()"
   ]
  },
  {
   "cell_type": "code",
   "execution_count": 14,
   "metadata": {},
   "outputs": [
    {
     "data": {
      "image/png": "[encoded data removed]",
      "text/plain": [
       "<Figure size 432x288 with 1 Axes>"
      ]
     },
     "metadata": {
      "needs_background": "light"
     },
     "output_type": "display_data"
    }
   ],
   "source": [
    "# Latitude vs Humidity\n",
    "\n",
    "y = weather_data.Humidity\n",
    "x = weather_data.Lat\n",
    "plt.scatter(x,y,marker = 'o')\n",
    "plt.title(f'City Latitude vs. Humidity')\n",
    "plt.xlabel('Latitude')\n",
    "plt.ylabel('Humidity(%)')\n",
    "plt.ylim(0,110)\n",
    "plt.grid(color='gray', linestyle='-', linewidth=1)\n",
    "plt.savefig('WeatherPy_Lat_vs_Humidity.png')\n",
    "plt.show()"
   ]
  },
  {
   "cell_type": "code",
   "execution_count": 15,
   "metadata": {},
   "outputs": [
    {
     "data": {
      "image/png": "[encoded data removed]",
      "text/plain": [
       "<Figure size 432x288 with 1 Axes>"
      ]
     },
     "metadata": {
      "needs_background": "light"
     },
     "output_type": "display_data"
    }
   ],
   "source": [
    "#Latitude vs Cloudiness\n",
    "\n",
    "y = weather_data.Cloudiness\n",
    "x = weather_data.Lat\n",
    "plt.scatter(x,y,marker = 'o')\n",
    "plt.title(f'City Latitude vs. Cloudiness')\n",
    "plt.xlabel('Latitude')\n",
    "plt.ylabel('Cloudiness(%)')\n",
    "plt.grid(color='gray', linestyle='-', linewidth=1)\n",
    "plt.savefig('WeatherPy_Lat_vs_Cloudiness.png')\n",
    "plt.show()"
   ]
  },
  {
   "cell_type": "code",
   "execution_count": 16,
   "metadata": {},
   "outputs": [
    {
     "data": {
      "image/png": "[encoded data removed]",
      "text/plain": [
       "<Figure size 432x288 with 1 Axes>"
      ]
     },
     "metadata": {
      "needs_background": "light"
     },
     "output_type": "display_data"
    }
   ],
   "source": [
    "#Latitude vs. Wind Speed\n",
    "\n",
    "y = weather_data['Wind Speed']\n",
    "x = weather_data.Lat\n",
    "plt.scatter(x,y,marker = 'o')\n",
    "plt.title(f'City Latitude vs. Wind Speed')\n",
    "plt.xlabel('Latitude')\n",
    "plt.ylabel('Wind Speed(mph)')\n",
    "plt.grid(color='gray', linestyle='-', linewidth=1)\n",
    "plt.savefig('WeatherPy_WindSpeed.vs.Lat.png')\n",
    "plt.show()"
   ]
  },
  {
   "cell_type": "markdown",
   "metadata": {},
   "source": [
    "### Linear Regression"
   ]
  },
  {
   "cell_type": "code",
   "execution_count": 17,
   "metadata": {},
   "outputs": [],
   "source": [
    "northern_df = weather_data.loc[weather_data.Lat >= 0]\n",
    "southern_df = weather_data.loc[weather_data.Lat < 0]\n",
    "#northern_df\n",
    "#southern_df"
   ]
  },
  {
   "cell_type": "code",
   "execution_count": 18,
   "metadata": {},
   "outputs": [],
   "source": [
    "def north_linear_regression(x_values,y_values,x_label,y_label):\n",
    "    x_values = northern_df[x_values]\n",
    "    y_values = northern_df[y_values]\n",
    "    (slope, intercept, rvalue, pvalue, stderr) = linregress(x_values, y_values)\n",
    "    regress_values = x_values * slope + intercept\n",
    "    line_eq = \"y = \" + str(round(slope,2)) + \"x + \" + str(round(intercept,2))\n",
    "    plt.scatter(x_values,y_values)\n",
    "    plt.plot(x_values,regress_values,\"r-\")\n",
    "    plt.annotate(line_eq,(6,10),fontsize=15,color=\"red\")\n",
    "    plt.xlabel(x_label)\n",
    "    plt.ylabel(y_label)\n",
    "    plt.savefig(f'Northern_LR_{x_label}_vs_{y_label}.png')\n",
    "    print(f\"The r-squared is: {rvalue**2}\")\n",
    "    return plt.show()"
   ]
  },
  {
   "cell_type": "code",
   "execution_count": 19,
   "metadata": {},
   "outputs": [],
   "source": [
    "def south_linear_regression(x_values,y_values,x_label,y_label):\n",
    "    x_values = southern_df[x_values]\n",
    "    y_values = southern_df[y_values]\n",
    "    (slope, intercept, rvalue, pvalue, stderr) = linregress(x_values, y_values)\n",
    "    regress_values = x_values * slope + intercept\n",
    "    line_eq = \"y = \" + str(round(slope,2)) + \"x + \" + str(round(intercept,2))\n",
    "    plt.scatter(x_values,y_values)\n",
    "    plt.plot(x_values,regress_values,\"r-\")\n",
    "    plt.annotate(line_eq,(0,0),fontsize=15,color=\"red\")\n",
    "    plt.xlabel(x_label)\n",
    "    plt.ylabel(y_label)\n",
    "    plt.savefig(f'Southern_LR_{x_label}_vs_{y_label}.png')\n",
    "    print(f\"The r-squared is: {rvalue**2}\")\n",
    "    return plt.show()"
   ]
  },
  {
   "cell_type": "markdown",
   "metadata": {},
   "source": [
    "### Northern Hemisphere - Max Temp vs. Latitude Linear Regression"
   ]
  },
  {
   "cell_type": "code",
   "execution_count": 20,
   "metadata": {},
   "outputs": [
    {
     "name": "stdout",
     "output_type": "stream",
     "text": [
      "The r-squared is: 0.614789139831467\n"
     ]
    },
    {
     "data": {
      "image/png": "[encoded data removed]",
      "text/plain": [
       "<Figure size 432x288 with 1 Axes>"
      ]
     },
     "metadata": {
      "needs_background": "light"
     },
     "output_type": "display_data"
    }
   ],
   "source": [
    "north_linear_regression('Lat','Temp','Latitude','Temperature')"
   ]
  },
  {
   "cell_type": "markdown",
   "metadata": {},
   "source": [
    "### Southern Hemisphere - Max Temp vs. Latitude Linear Regression"
   ]
  },
  {
   "cell_type": "code",
   "execution_count": 21,
   "metadata": {},
   "outputs": [
    {
     "name": "stdout",
     "output_type": "stream",
     "text": [
      "The r-squared is: 0.595331408597173\n"
     ]
    },
    {
     "data": {
      "image/png": "[encoded data removed]",
      "text/plain": [
       "<Figure size 432x288 with 1 Axes>"
      ]
     },
     "metadata": {
      "needs_background": "light"
     },
     "output_type": "display_data"
    }
   ],
   "source": [
    "south_linear_regression('Lat','Temp','Latitude','Temperature')"
   ]
  },
  {
   "cell_type": "markdown",
   "metadata": {},
   "source": [
    "### Northern Hemisphere - Humidity (%) vs. Latitude Linear Regression"
   ]
  },
  {
   "cell_type": "code",
   "execution_count": 22,
   "metadata": {},
   "outputs": [
    {
     "name": "stdout",
     "output_type": "stream",
     "text": [
      "The r-squared is: 0.003640323528514629\n"
     ]
    },
    {
     "data": {
      "image/png": "[encoded data removed]",
      "text/plain": [
       "<Figure size 432x288 with 1 Axes>"
      ]
     },
     "metadata": {
      "needs_background": "light"
     },
     "output_type": "display_data"
    }
   ],
   "source": [
    "north_linear_regression('Lat','Humidity','Latitude','Humidity')"
   ]
  },
  {
   "cell_type": "markdown",
   "metadata": {},
   "source": [
    "### Southern Hemisphere - Humidity (%) vs. Latitude Linear Regression"
   ]
  },
  {
   "cell_type": "code",
   "execution_count": 23,
   "metadata": {},
   "outputs": [
    {
     "name": "stdout",
     "output_type": "stream",
     "text": [
      "The r-squared is: 0.008443479723944127\n"
     ]
    },
    {
     "data": {
      "image/png": "[encoded data removed]",
      "text/plain": [
       "<Figure size 432x288 with 1 Axes>"
      ]
     },
     "metadata": {
      "needs_background": "light"
     },
     "output_type": "display_data"
    }
   ],
   "source": [
    "south_linear_regression('Lat','Humidity','Latitude','Humidity')"
   ]
  },
  {
   "cell_type": "markdown",
   "metadata": {},
   "source": [
    "### Northern Hemisphere - Cloudiness (%) vs. Latitude Linear Regression"
   ]
  },
  {
   "cell_type": "code",
   "execution_count": 24,
   "metadata": {},
   "outputs": [
    {
     "name": "stdout",
     "output_type": "stream",
     "text": [
      "The r-squared is: 9.999225252176676e-06\n"
     ]
    },
    {
     "data": {
      "image/png": "[encoded data removed]",
      "text/plain": [
       "<Figure size 432x288 with 1 Axes>"
      ]
     },
     "metadata": {
      "needs_background": "light"
     },
     "output_type": "display_data"
    }
   ],
   "source": [
    "north_linear_regression('Lat','Cloudiness','Latitude','Cloudiness')"
   ]
  },
  {
   "cell_type": "markdown",
   "metadata": {},
   "source": [
    "### Southern Hemisphere - Cloudiness (%) vs. Latitude Linear Regression"
   ]
  },
  {
   "cell_type": "code",
   "execution_count": 25,
   "metadata": {},
   "outputs": [
    {
     "name": "stdout",
     "output_type": "stream",
     "text": [
      "The r-squared is: 0.06297529322935161\n"
     ]
    },
    {
     "data": {
      "image/png": "[encoded data removed]",
      "text/plain": [
       "<Figure size 432x288 with 1 Axes>"
      ]
     },
     "metadata": {
      "needs_background": "light"
     },
     "output_type": "display_data"
    }
   ],
   "source": [
    "south_linear_regression('Lat','Cloudiness','Latitude','Cloudiness')"
   ]
  },
  {
   "cell_type": "markdown",
   "metadata": {},
   "source": [
    "### Northern Hemisphere - Wind Speed (mph) vs. Latitude Linear Regression"
   ]
  },
  {
   "cell_type": "code",
   "execution_count": 26,
   "metadata": {},
   "outputs": [
    {
     "name": "stdout",
     "output_type": "stream",
     "text": [
      "The r-squared is: 0.010561232096090627\n"
     ]
    },
    {
     "data": {
      "image/png": "[encoded data removed]",
      "text/plain": [
       "<Figure size 432x288 with 1 Axes>"
      ]
     },
     "metadata": {
      "needs_background": "light"
     },
     "output_type": "display_data"
    }
   ],
   "source": [
    "north_linear_regression('Lat','Wind Speed','Latitude','Wind Speed')"
   ]
  },
  {
   "cell_type": "markdown",
   "metadata": {},
   "source": [
    "### Southern Hemisphere - Wind Speed (mph) vs. Latitude Linear Regression"
   ]
  },
  {
   "cell_type": "code",
   "execution_count": 27,
   "metadata": {},
   "outputs": [
    {
     "name": "stdout",
     "output_type": "stream",
     "text": [
      "The r-squared is: 0.010125269149804736\n"
     ]
    },
    {
     "data": {
      "image/png": "[encoded data removed]",
      "text/plain": [
       "<Figure size 432x288 with 1 Axes>"
      ]
     },
     "metadata": {
      "needs_background": "light"
     },
     "output_type": "display_data"
    }
   ],
   "source": [
    "south_linear_regression('Lat','Wind Speed','Latitude','Wind Speed')"
   ]
  }
 ],
 "metadata": {
  "kernelspec": {
   "display_name": "Python 3",
   "language": "python",
   "name": "python3"
  },
  "language_info": {
   "codemirror_mode": {
    "name": "ipython",
    "version": 3
   },
   "file_extension": ".py",
   "mimetype": "text/x-python",
   "name": "python",
   "nbconvert_exporter": "python",
   "pygments_lexer": "ipython3",
   "version": "3.7.6"
  }
 },
 "nbformat": 4,
 "nbformat_minor": 4
}
